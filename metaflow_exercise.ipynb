{
  "nbformat": 4,
  "nbformat_minor": 0,
  "metadata": {
    "colab": {
      "name": "Copy of metaflow_exercise.ipynb",
      "provenance": [],
      "collapsed_sections": []
    },
    "kernelspec": {
      "name": "python3",
      "display_name": "Python 3"
    },
    "language_info": {
      "name": "python"
    }
  },
  "cells": [
    {
      "cell_type": "markdown",
      "metadata": {
        "id": "748PqMAkJqTg"
      },
      "source": [
        "Benefits of Metaflow\n",
        "\n",
        "1) Data scientists can create argo training pipelines with low effort from the ML code in python.\n",
        "\n",
        "2) Training pipelines can be tested locally prior to deploying to AIF.\n",
        "\n",
        "3) The metaflow-argo plugin generates the workflow template for AIF, which saves a lot of manual work especially for multi-step pipelines."
      ]
    },
    {
      "cell_type": "markdown",
      "metadata": {
        "id": "mI9lDrX64uSX"
      },
      "source": [
        "Install libraries\n"
      ]
    },
    {
      "cell_type": "code",
      "metadata": {
        "id": "zUcEFFHFLYKS"
      },
      "source": [
        "!pip install scikit-learn==0.24.2\n",
        "!pip install urllib3==1.25.11\n",
        "!pip install git+https://github.com/sappier/metaflow"
      ],
      "execution_count": null,
      "outputs": []
    },
    {
      "cell_type": "markdown",
      "metadata": {
        "id": "-MStWFrzGIjv"
      },
      "source": [
        "Copy configuration files & metaflow scripts"
      ]
    },
    {
      "cell_type": "code",
      "metadata": {
        "id": "1rO8ETKyGe5F"
      },
      "source": [
        "!(if [ ! -d \"metaflow-demo\" ]; then \\\n",
        "    git clone https://github.com/karimmohraz/metaflow metaflow-demo; \\\n",
        "  fi)\n",
        "!(if [ ! -d ~/.metaflowconfig ]; then \\\n",
        "    mkdir ~/.metaflowconfig; \\\n",
        "    cp metaflow-demo/config.json ~/.metaflowconfig; \\\n",
        "  fi)"
      ],
      "execution_count": null,
      "outputs": []
    },
    {
      "cell_type": "markdown",
      "metadata": {
        "id": "QVYuZ_po42nG"
      },
      "source": [
        "Metaflow configuration\n",
        "\n",
        "Your trainer will provide the S3 credentials"
      ]
    },
    {
      "cell_type": "code",
      "metadata": {
        "id": "b-MP0u3vPg_3"
      },
      "source": [
        "import os\n",
        "os.environ['METAFLOW_USER'] = 'test'\n",
        "os.environ['AWS_ACCESS_KEY_ID'] = 'XXXX'\n",
        "os.environ['AWS_SECRET_ACCESS_KEY'] = 'YYYY'"
      ],
      "execution_count": null,
      "outputs": []
    },
    {
      "cell_type": "markdown",
      "metadata": {
        "id": "UvJeMNDS8yH9"
      },
      "source": [
        "Visualize hyperparameter training pipeline and run locally"
      ]
    },
    {
      "cell_type": "code",
      "metadata": {
        "colab": {
          "base_uri": "https://localhost:8080/",
          "height": 378
        },
        "id": "jrY2ejwQQnMN",
        "outputId": "0cfcfb08-d6e3-4013-8126-a96a279c4a64"
      },
      "source": [
        "from IPython.display import Image\n",
        "!python metaflow-demo/hyperparamtuning.py check\n",
        "!python metaflow-demo/hyperparamtuning.py output-dot | dot -Tpng -o graph.png\n",
        "Image('graph.png')"
      ],
      "execution_count": null,
      "outputs": [
        {
          "output_type": "stream",
          "text": [
            "\u001b[35m\u001b[1mMetaflow 2.3.0\u001b[0m\u001b[35m\u001b[22m executing \u001b[0m\u001b[31m\u001b[1mHyperParamTuning\u001b[0m\u001b[35m\u001b[22m\u001b[0m\u001b[35m\u001b[22m for \u001b[0m\u001b[31m\u001b[1muser:test\u001b[0m\u001b[35m\u001b[22m\u001b[K\u001b[0m\u001b[35m\u001b[22m\u001b[0m\n",
            "\u001b[35m\u001b[22mValidating your flow...\u001b[K\u001b[0m\u001b[35m\u001b[22m\u001b[0m\n",
            "\u001b[32m\u001b[1m    The graph looks good!\u001b[K\u001b[0m\u001b[32m\u001b[1m\u001b[0m\n",
            "\u001b[35m\u001b[22mRunning pylint...\u001b[K\u001b[0m\u001b[35m\u001b[22m\u001b[0m\n",
            "\u001b[32m\u001b[1m    Pylint is happy!\u001b[K\u001b[0m\u001b[32m\u001b[1m\u001b[0m\n",
            "\u001b[22m\n",
            "\u001b[0m\u001b[35m\u001b[22m'metaflow-demo/hyperparamtuning.py show'\u001b[0m\u001b[22m shows a description of this flow.\n",
            "\u001b[0m\u001b[35m\u001b[22m'metaflow-demo/hyperparamtuning.py run'\u001b[0m\u001b[22m runs the flow locally.\n",
            "\u001b[0m\u001b[35m\u001b[22m'metaflow-demo/hyperparamtuning.py help'\u001b[0m\u001b[22m shows all available commands and options.\n",
            "\u001b[K\u001b[0m\u001b[22m\u001b[0m\n",
            "\u001b[35m\u001b[1mMetaflow 2.3.0\u001b[0m\u001b[35m\u001b[22m executing \u001b[0m\u001b[31m\u001b[1mHyperParamTuning\u001b[0m\u001b[35m\u001b[22m\u001b[0m\u001b[35m\u001b[22m for \u001b[0m\u001b[31m\u001b[1muser:test\u001b[0m\u001b[35m\u001b[22m\u001b[K\u001b[0m\u001b[35m\u001b[22m\u001b[0m\n",
            "\u001b[35m\u001b[22mVisualizing the flow as a GraphViz graph\u001b[K\u001b[0m\u001b[35m\u001b[22m\u001b[0m\n",
            "\u001b[22m    Try piping the output to 'dot -Tpng -o graph.png' to produce an actual image.\u001b[K\u001b[0m\u001b[22m\u001b[0m\n"
          ],
          "name": "stdout"
        },
        {
          "output_type": "execute_result",
          "data": {
            "image/png": "[encoded data removed]",
            "text/plain": [
              "<IPython.core.display.Image object>"
            ]
          },
          "metadata": {
            "tags": []
          },
          "execution_count": 11
        }
      ]
    },
    {
      "cell_type": "code",
      "metadata": {
        "id": "JLHoQizkPN_4"
      },
      "source": [
        "!python metaflow-demo/hyperparamtuning.py run"
      ],
      "execution_count": null,
      "outputs": []
    },
    {
      "cell_type": "markdown",
      "metadata": {
        "id": "msktKwE9fMFq"
      },
      "source": [
        "Create argo template from metaflow script.\n",
        "\n",
        "This template is available in the github repo: hyperparameter-demo.json (if you want to execute it)."
      ]
    },
    {
      "cell_type": "code",
      "metadata": {
        "colab": {
          "base_uri": "https://localhost:8080/"
        },
        "id": "yUwF-aePZWd6",
        "outputId": "40644ffa-d634-4b4b-b9fe-2ec3575fedde"
      },
      "source": [
        "!python metaflow-demo/hyperparamtuning.py argo create --only-json > hyperparam.json"
      ],
      "execution_count": null,
      "outputs": [
        {
          "output_type": "stream",
          "text": [
            "\u001b[35m\u001b[1mMetaflow 2.3.0\u001b[0m\u001b[35m\u001b[22m executing \u001b[0m\u001b[31m\u001b[1mHyperParamTuning\u001b[0m\u001b[35m\u001b[22m\u001b[0m\u001b[35m\u001b[22m for \u001b[0m\u001b[31m\u001b[1muser:test\u001b[0m\u001b[35m\u001b[22m\u001b[K\u001b[0m\u001b[35m\u001b[22m\u001b[0m\n",
            "\u001b[35m\u001b[22mValidating your flow...\u001b[K\u001b[0m\u001b[35m\u001b[22m\u001b[0m\n",
            "\u001b[32m\u001b[1m    The graph looks good!\u001b[K\u001b[0m\u001b[32m\u001b[1m\u001b[0m\n",
            "\u001b[35m\u001b[22mRunning pylint...\u001b[K\u001b[0m\u001b[35m\u001b[22m\u001b[0m\n",
            "\u001b[32m\u001b[1m    Pylint is happy!\u001b[K\u001b[0m\u001b[32m\u001b[1m\u001b[0m\n",
            "\u001b[1mDeploying \u001b[0m\u001b[31m\u001b[1mhyperparamtuning\u001b[0m\u001b[1m to Argo Workflow Templates...\u001b[K\u001b[0m\u001b[1m\u001b[0m\n"
          ],
          "name": "stdout"
        }
      ]
    },
    {
      "cell_type": "markdown",
      "metadata": {
        "id": "MJTCazjdAb9k"
      },
      "source": [
        "Create additional argo template for complex training pipeline: \n",
        "\n",
        "Simulation of AutoML with crossvalidation.\n",
        "Implementation in metaflow using a double for loop\n"
      ]
    },
    {
      "cell_type": "code",
      "metadata": {
        "colab": {
          "base_uri": "https://localhost:8080/",
          "height": 132
        },
        "id": "6JfOHpddDIOT",
        "outputId": "f33dfff0-5e53-4596-b55e-973c9fe03720"
      },
      "source": [
        "!python metaflow-demo/automl_crossval.py output-dot | dot -Tpng -o graph.png\n",
        "Image('graph.png')"
      ],
      "execution_count": null,
      "outputs": [
        {
          "output_type": "stream",
          "text": [
            "\u001b[35m\u001b[1mMetaflow 2.3.0\u001b[0m\u001b[35m\u001b[22m executing \u001b[0m\u001b[31m\u001b[1mAutoMLCrossVal\u001b[0m\u001b[35m\u001b[22m\u001b[0m\u001b[35m\u001b[22m for \u001b[0m\u001b[31m\u001b[1muser:test\u001b[0m\u001b[35m\u001b[22m\u001b[K\u001b[0m\u001b[35m\u001b[22m\u001b[0m\n",
            "\u001b[35m\u001b[22mVisualizing the flow as a GraphViz graph\u001b[K\u001b[0m\u001b[35m\u001b[22m\u001b[0m\n",
            "\u001b[22m    Try piping the output to 'dot -Tpng -o graph.png' to produce an actual image.\u001b[K\u001b[0m\u001b[22m\u001b[0m\n"
          ],
          "name": "stdout"
        },
        {
          "output_type": "execute_result",
          "data": {
            "image/png": "[encoded data removed]",
            "text/plain": [
              "<IPython.core.display.Image object>"
            ]
          },
          "metadata": {
            "tags": []
          },
          "execution_count": 9
        }
      ]
    },
    {
      "cell_type": "code",
      "metadata": {
        "colab": {
          "base_uri": "https://localhost:8080/"
        },
        "id": "U5HfysPDZH8a",
        "outputId": "e3f83d0e-1479-4381-d41c-71a1561bbf9e"
      },
      "source": [
        "!python metaflow-demo/automl_crossval.py argo create --only-json > automl_crossval.json"
      ],
      "execution_count": null,
      "outputs": [
        {
          "output_type": "stream",
          "text": [
            "\u001b[35m\u001b[1mMetaflow 2.3.0\u001b[0m\u001b[35m\u001b[22m executing \u001b[0m\u001b[31m\u001b[1mAutoMLCrossVal\u001b[0m\u001b[35m\u001b[22m\u001b[0m\u001b[35m\u001b[22m for \u001b[0m\u001b[31m\u001b[1muser:test\u001b[0m\u001b[35m\u001b[22m\u001b[K\u001b[0m\u001b[35m\u001b[22m\u001b[0m\n",
            "\u001b[35m\u001b[22mValidating your flow...\u001b[K\u001b[0m\u001b[35m\u001b[22m\u001b[0m\n",
            "\u001b[32m\u001b[1m    The graph looks good!\u001b[K\u001b[0m\u001b[32m\u001b[1m\u001b[0m\n",
            "\u001b[35m\u001b[22mRunning pylint...\u001b[K\u001b[0m\u001b[35m\u001b[22m\u001b[0m\n",
            "\u001b[32m\u001b[1m    Pylint is happy!\u001b[K\u001b[0m\u001b[32m\u001b[1m\u001b[0m\n",
            "\u001b[1mDeploying \u001b[0m\u001b[31m\u001b[1mautomlcrossval\u001b[0m\u001b[1m to Argo Workflow Templates...\u001b[K\u001b[0m\u001b[1m\u001b[0m\n"
          ],
          "name": "stdout"
        }
      ]
    },
    {
      "cell_type": "markdown",
      "metadata": {
        "id": "1OP9VvqLDp0r"
      },
      "source": [
        "Next steps:\n",
        "- from the left sidebar choose \"Files\" (folder icon) and click on Refresh\n",
        "- download the json file\n",
        "- push json file to AIF github repo"
      ]
    }
  ]
}