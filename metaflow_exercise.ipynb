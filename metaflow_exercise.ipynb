{
  "cells": [
    {
      "cell_type": "markdown",
      "metadata": {
        "id": "748PqMAkJqTg"
      },
      "source": [
        "Benefits of Metaflow\n",
        "\n",
        "1) Data scientists can create argo training pipelines with low effort from the ML code in python.\n",
        "\n",
        "2) Training pipelines can be tested locally prior to deploying to AIF.\n",
        "\n",
        "3) The metaflow-argo plugin generates the workflow template for AIF, which saves a lot of manual work especially for multi-step pipelines."
      ]
    },
    {
      "cell_type": "markdown",
      "metadata": {
        "id": "mI9lDrX64uSX"
      },
      "source": [
        "Install libraries\n"
      ]
    },
    {
      "cell_type": "code",
      "execution_count": null,
      "metadata": {
        "id": "zUcEFFHFLYKS"
      },
      "outputs": [],
      "source": [
        "!python3 -m pip install --upgrade pip\n",
        "!python3 -m pip install scikit-learn\n",
        "!python3 -m pip install urllib3\n",
        "!python3 -m pip install sap-ai-core-metaflow"
      ]
    },
    {
      "cell_type": "markdown",
      "metadata": {
        "id": "-MStWFrzGIjv"
      },
      "source": [
        "Copy configuration files & metaflow scripts"
      ]
    },
    {
      "cell_type": "code",
      "execution_count": null,
      "metadata": {
        "id": "1rO8ETKyGe5F"
      },
      "outputs": [],
      "source": [
        "!(if [ ! -d \"metaflow-demo\" ]; then \\\n",
        "    git clone https://github.com/karimmohraz/metaflow metaflow-demo; \\\n",
        "  fi)\n",
        "!(if [ ! -d ~/.metaflowconfig ]; then \\\n",
        "    mkdir ~/.metaflowconfig; \\\n",
        "    cp metaflow-demo/config.json ~/.metaflowconfig; \\\n",
        "  fi)\n",
        "%cd metaflow-demo"
      ]
    },
    {
      "cell_type": "markdown",
      "metadata": {
        "id": "QVYuZ_po42nG"
      },
      "source": [
        "Metaflow configuration\n",
        "\n",
        "Your trainer will provide the S3 credentials"
      ]
    },
    {
      "cell_type": "code",
      "execution_count": 11,
      "metadata": {
        "id": "b-MP0u3vPg_3"
      },
      "outputs": [],
      "source": [
        "import os\n",
        "os.environ['METAFLOW_USER'] = 'test'\n",
        "os.environ['AWS_ACCESS_KEY_ID'] = 'XXXX'\n",
        "os.environ['AWS_SECRET_ACCESS_KEY'] = 'YYYY'"
      ]
    },
    {
      "cell_type": "markdown",
      "metadata": {
        "id": "UvJeMNDS8yH9"
      },
      "source": [
        "Visualize hyperparameter training pipeline and run locally"
      ]
    },
    {
      "cell_type": "code",
      "execution_count": null,
      "metadata": {
        "colab": {
          "base_uri": "https://localhost:8080/",
          "height": 378
        },
        "id": "jrY2ejwQQnMN",
        "outputId": "0cfcfb08-d6e3-4013-8126-a96a279c4a64"
      },
      "outputs": [],
      "source": [
        "from IPython.display import Image\n",
        "!python3 hyperparamtuning.py check\n",
        "!python3 hyperparamtuning.py output-dot | dot -Tpng -o graph.png\n",
        "Image('graph.png')"
      ]
    },
    {
      "cell_type": "code",
      "execution_count": null,
      "metadata": {
        "id": "JLHoQizkPN_4"
      },
      "outputs": [],
      "source": [
        "!python3 hyperparamtuning.py run"
      ]
    },
    {
      "cell_type": "markdown",
      "metadata": {
        "id": "msktKwE9fMFq"
      },
      "source": [
        "Create argo template from metaflow script.\n",
        "\n",
        "This template is available in the github repo: hyperparameter-demo.json (if you want to execute it)."
      ]
    },
    {
      "cell_type": "code",
      "execution_count": null,
      "metadata": {
        "colab": {
          "base_uri": "https://localhost:8080/"
        },
        "id": "yUwF-aePZWd6",
        "outputId": "40644ffa-d634-4b4b-b9fe-2ec3575fedde"
      },
      "outputs": [],
      "source": [
        "!python3 hyperparamtuning.py --with=kubernetes:image=metaflow-docker:1.0.0,secrets=default-object-store-secret argo create --label={\"scenarios.ai.sap.com/id\":\"hyperparamtuning\",\"ai.sap.com/version\":\"1.0.0\"} --annotation={\"scenarios.ai.sap.com/name\":\"metaflow\",\"executables.ai.sap.com/name\":\"hyperparamtuning\"} --image-pull-secret=docker-registry-secret --only-json > hyperparam.json"
      ]
    },
    {
      "cell_type": "markdown",
      "metadata": {
        "id": "MJTCazjdAb9k"
      },
      "source": [
        "Create additional argo template for complex training pipeline: \n",
        "\n",
        "Simulation of AutoML with crossvalidation.\n",
        "Implementation in metaflow using a double for loop\n"
      ]
    },
    {
      "cell_type": "code",
      "execution_count": 17,
      "metadata": {
        "colab": {
          "base_uri": "https://localhost:8080/",
          "height": 132
        },
        "id": "6JfOHpddDIOT",
        "outputId": "f33dfff0-5e53-4596-b55e-973c9fe03720"
      },
      "outputs": [
        {
          "name": "stdout",
          "output_type": "stream",
          "text": [
            "\u001b[35m\u001b[1mMetaflow 2.7.1\u001b[0m\u001b[35m\u001b[22m executing \u001b[0m\u001b[31m\u001b[1mAutoMLCrossVal\u001b[0m\u001b[35m\u001b[22m\u001b[0m\u001b[35m\u001b[22m for \u001b[0m\u001b[31m\u001b[1muser:test\u001b[0m\u001b[35m\u001b[22m\u001b[K\u001b[0m\u001b[35m\u001b[22m\u001b[0m\n",
            "\u001b[35m\u001b[22mVisualizing the flow as a GraphViz graph\u001b[K\u001b[0m\u001b[35m\u001b[22m\u001b[0m\n",
            "\u001b[22m    Try piping the output to 'dot -Tpng -o graph.png' to produce an actual image.\u001b[K\u001b[0m\u001b[22m\u001b[0m\n"
          ]
        },
        {
          "data": {
            "image/png": "[encoded data removed]",
            "text/plain": [
              "<IPython.core.display.Image object>"
            ]
          },
          "execution_count": 17,
          "metadata": {},
          "output_type": "execute_result"
        }
      ],
      "source": [
        "!python3 automl_crossval.py output-dot | dot -Tpng -o graph.png\n",
        "Image('graph.png')"
      ]
    },
    {
      "cell_type": "code",
      "execution_count": null,
      "metadata": {
        "colab": {
          "base_uri": "https://localhost:8080/"
        },
        "id": "U5HfysPDZH8a",
        "outputId": "e3f83d0e-1479-4381-d41c-71a1561bbf9e"
      },
      "outputs": [
        {
          "name": "stdout",
          "output_type": "stream",
          "text": [
            "\u001b[35m\u001b[1mMetaflow 2.3.0\u001b[0m\u001b[35m\u001b[22m executing \u001b[0m\u001b[31m\u001b[1mAutoMLCrossVal\u001b[0m\u001b[35m\u001b[22m\u001b[0m\u001b[35m\u001b[22m for \u001b[0m\u001b[31m\u001b[1muser:test\u001b[0m\u001b[35m\u001b[22m\u001b[K\u001b[0m\u001b[35m\u001b[22m\u001b[0m\n",
            "\u001b[35m\u001b[22mValidating your flow...\u001b[K\u001b[0m\u001b[35m\u001b[22m\u001b[0m\n",
            "\u001b[32m\u001b[1m    The graph looks good!\u001b[K\u001b[0m\u001b[32m\u001b[1m\u001b[0m\n",
            "\u001b[35m\u001b[22mRunning pylint...\u001b[K\u001b[0m\u001b[35m\u001b[22m\u001b[0m\n",
            "\u001b[32m\u001b[1m    Pylint is happy!\u001b[K\u001b[0m\u001b[32m\u001b[1m\u001b[0m\n",
            "\u001b[1mDeploying \u001b[0m\u001b[31m\u001b[1mautomlcrossval\u001b[0m\u001b[1m to Argo Workflow Templates...\u001b[K\u001b[0m\u001b[1m\u001b[0m\n"
          ]
        }
      ],
      "source": [
        "!python3 automl_crossval.py --with=kubernetes:image=metaflow-docker:1.0.0,secrets=default-object-store-secret argo create --label={\"scenarios.ai.sap.com/id\":\"automl_crossval\",\"ai.sap.com/version\":\"1.0.0\"} --annotation={\"scenarios.ai.sap.com/name\":\"metaflow\",\"executables.ai.sap.com/name\":\"automl_crossval\"} --image-pull-secret=docker-registry-secret --only-json > automl_crossval.json"
      ]
    },
    {
      "cell_type": "markdown",
      "metadata": {
        "id": "1OP9VvqLDp0r"
      },
      "source": [
        "Next steps:\n",
        "- from the left sidebar choose \"Files\" (folder icon) and click on Refresh\n",
        "- download the json file\n",
        "- push json file to AIF github repo"
      ]
    }
  ],
  "metadata": {
    "colab": {
      "collapsed_sections": [],
      "name": "Copy of metaflow_exercise.ipynb",
      "provenance": []
    },
    "kernelspec": {
      "display_name": "Python 3.8.9 64-bit",
      "language": "python",
      "name": "python3"
    },
    "language_info": {
      "codemirror_mode": {
        "name": "ipython",
        "version": 3
      },
      "file_extension": ".py",
      "mimetype": "text/x-python",
      "name": "python",
      "nbconvert_exporter": "python",
      "pygments_lexer": "ipython3",
      "version": "3.8.9"
    },
    "vscode": {
      "interpreter": {
        "hash": "31f2aee4e71d21fbe5cf8b01ff0e069b9275f58929596ceb00d14d90e3e16cd6"
      }
    }
  },
  "nbformat": 4,
  "nbformat_minor": 0
}
